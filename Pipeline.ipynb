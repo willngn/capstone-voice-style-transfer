{
 "cells": [
  {
   "cell_type": "code",
   "execution_count": 3,
   "id": "9d629b4d",
   "metadata": {},
   "outputs": [],
   "source": [
    "import os\n",
    "import shutil\n",
    "\n",
    "artists = ['TaylorSwift', 'ArianaGrande', 'SZA']\n",
    "voice_conversion = './voice_conversion'\n",
    "database = voice_conversion + '/database'\n",
    "os.makedirs(database, exist_ok=True)\n",
    "vocal_output = './output'\n",
    "for i, artist in enumerate(artists):\n",
    "    dir_path = database + f\"/spkr_{i + 1}\"\n",
    "    os.makedirs(dir_path, exist_ok=True)\n",
    "    \n",
    "    artist_output_directory = os.path.join(vocal_output, artist, 'vocals')\n",
    "    for f in os.listdir(artist_output_directory):\n",
    "        shutil.copy(os.path.join(artist_output_directory, f), os.path.join(dir_path, f))"
   ]
  }
 ],
 "metadata": {
  "kernelspec": {
   "display_name": "Python 3",
   "language": "python",
   "name": "python3"
  },
  "language_info": {
   "codemirror_mode": {
    "name": "ipython",
    "version": 3
   },
   "file_extension": ".py",
   "mimetype": "text/x-python",
   "name": "python",
   "nbconvert_exporter": "python",
   "pygments_lexer": "ipython3",
   "version": "3.8.3"
  }
 },
 "nbformat": 4,
 "nbformat_minor": 5
}
