{
 "cells": [
  {
   "cell_type": "markdown",
   "id": "da13124b",
   "metadata": {},
   "source": [
    "!pip install spleeter"
   ]
  },
  {
   "cell_type": "code",
   "execution_count": 13,
   "id": "c0be97fc",
   "metadata": {},
   "outputs": [],
   "source": [
    "import os\n",
    "from spleeter.separator import Separator\n",
    "from pydub import AudioSegment\n",
    "import numpy as np\n",
    "cwd = os.getcwd()\n",
    "import warnings\n",
    "warnings.filterwarnings('ignore')\n",
    "import shutil"
   ]
  },
  {
   "cell_type": "code",
   "execution_count": 14,
   "id": "bece14a7",
   "metadata": {},
   "outputs": [
    {
     "name": "stdout",
     "output_type": "stream",
     "text": [
      "INFO:tensorflow:Using config: {'_model_dir': 'pretrained_models/2stems', '_tf_random_seed': None, '_save_summary_steps': 100, '_save_checkpoints_steps': None, '_save_checkpoints_secs': 600, '_session_config': gpu_options {\n",
      "  per_process_gpu_memory_fraction: 0.7\n",
      "}\n",
      ", '_keep_checkpoint_max': 5, '_keep_checkpoint_every_n_hours': 10000, '_log_step_count_steps': 100, '_train_distribute': None, '_device_fn': None, '_protocol': None, '_eval_distribute': None, '_experimental_distribute': None, '_experimental_max_worker_delay_secs': None, '_session_creation_timeout_secs': 7200, '_checkpoint_save_graph_def': True, '_service': None, '_cluster_spec': ClusterSpec({}), '_task_type': 'worker', '_task_id': 0, '_global_id_in_cluster': 0, '_master': '', '_evaluation_master': '', '_is_chief': True, '_num_ps_replicas': 0, '_num_worker_replicas': 1}\n",
      "INFO:tensorflow:Calling model_fn.\n",
      "INFO:tensorflow:Apply unet for vocals_spectrogram\n",
      "INFO:tensorflow:Apply unet for accompaniment_spectrogram\n",
      "INFO:tensorflow:Done calling model_fn.\n",
      "INFO:tensorflow:Graph was finalized.\n",
      "INFO:tensorflow:Restoring parameters from pretrained_models/2stems/model\n",
      "INFO:tensorflow:Running local_init_op.\n",
      "INFO:tensorflow:Done running local_init_op.\n",
      "Separated vocals and music for TaylorSwift from Taylor-Swift-Anti-Hero-(HiphopKit.com).wav\n",
      "Separated vocals and music for TaylorSwift from Taylor-Swift-Sweet-Nothing-(HiphopKit.com).wav\n",
      "Separated vocals and music for TaylorSwift from Taylor-Swift-Lavender-Haze-(HiphopKit.com).wav\n",
      "Separated vocals and music for TaylorSwift from Taylor-Swift-Question-(HiphopKit.com).wav\n",
      "Separated vocals and music for TaylorSwift from Taylor-Swift-Mastermind-(HiphopKit.com).wav\n",
      "Separated vocals and music for TaylorSwift from Taylor-Swift-Snow-On-The-Beach-ft-Lana-Del-Rey-(HiphopKit.com).wav\n",
      "Separated vocals and music for TaylorSwift from Taylor-Swift-You-re-On-Your-Own-Kid-(HiphopKit.com).wav\n",
      "Separated vocals and music for TaylorSwift from Taylor-Swift-Would-ve-Could-ve-Should-ve-(HiphopKit.com).wav\n",
      "Separated vocals and music for TaylorSwift from Taylor-Swift-Glitch-(HiphopKit.com).wav\n",
      "Separated vocals and music for TaylorSwift from Taylor-Swift-Maroon-(HiphopKit.com).wav\n",
      "Separated vocals and music for ArianaGrande from Ariana-Grande-Positions-(HipHopKit.com).wav\n",
      "Separated vocals and music for ArianaGrande from Ariana-Grande-Six-Thirty-(HipHopKit.com).wav\n",
      "Separated vocals and music for ArianaGrande from Ariana-Grande-Safety-Net-ft-Ty-Dolla-ign-(HipHopKit.com).wav\n",
      "Separated vocals and music for ArianaGrande from Ariana-Grande-Shut-Up-(HipHopKit.com).wav\n",
      "Separated vocals and music for ArianaGrande from Ariana-Grande-7-Rings-(HipHopKit.com).wav\n",
      "Separated vocals and music for ArianaGrande from Ariana-Grande-Pov-(HipHopKit.com).wav\n",
      "Separated vocals and music for ArianaGrande from Ariana-Grande-34-35-(HipHopKit.com).wav\n",
      "Separated vocals and music for ArianaGrande from Ariana-Grande-Off-The-Table-ft-The-Weeknd-(HipHopKit.com).wav\n",
      "Separated vocals and music for ArianaGrande from Ariana-Grande-Break-Up-with-Your-Girlfriend-I-m-Bored-(HipHopKit.com).wav\n",
      "Separated vocals and music for ArianaGrande from Ariana-Grande-Just-Like-Magic-(HipHopKit.com).wav\n",
      "Separated vocals and music for SZA from SZA-F2F-(HiphopKit.com).wav\n",
      "Separated vocals and music for SZA from SZA-Good-Days-(HiphopKit.com).wav\n",
      "Separated vocals and music for SZA from SZA-Forgiveless-ft-Ol-Dirty-Bastard-(HiphopKit.com).wav\n",
      "Separated vocals and music for SZA from SZA-Nobody-Gets-Me-(HiphopKit.com).wav\n",
      "Separated vocals and music for SZA from SZA-Kill-Bill-(HiphopKit.com).wav\n",
      "Separated vocals and music for SZA from SZA-Seek-Destroy-(HiphopKit.com).wav\n",
      "Separated vocals and music for SZA from SZA-Open-Arms-ft-Travis-Scott-(HiphopKit.com).wav\n",
      "Separated vocals and music for SZA from SZA-I-Hate-U-(HipHopKit.com).wav\n",
      "Separated vocals and music for SZA from SZA-Gone-Girl-(HiphopKit.com).wav\n",
      "Separated vocals and music for SZA from SZA-Love-Language-(HiphopKit.com).wav\n",
      "Separation completed.\n"
     ]
    }
   ],
   "source": [
    "# Define the input directory\n",
    "input_directory = './input'\n",
    "\n",
    "# Define the output directory for separated audio\n",
    "output_directory = './output'\n",
    "\n",
    "# List of artists and their corresponding directories\n",
    "artists = ['TaylorSwift', 'ArianaGrande', 'SZA']\n",
    "\n",
    "# Initialize the Spleeter separator\n",
    "separator = Separator('spleeter:2stems')\n",
    "\n",
    "# Iterate through each artist\n",
    "for artist in artists:\n",
    "    artist_input_directory = os.path.join(input_directory, artist)\n",
    "    artist_output_directory = os.path.join(output_directory, artist)\n",
    "\n",
    "    # Create the output directory for the current artist if it doesn't exist\n",
    "    os.makedirs(artist_output_directory, exist_ok=True)\n",
    "    \n",
    "    artist_vocals_directory = os.path.join(artist_output_directory, 'vocals')\n",
    "    artist_music_directory = os.path.join(artist_output_directory, 'music')\n",
    "\n",
    "    # Create directories for vocals and music\n",
    "    os.makedirs(artist_vocals_directory, exist_ok=True)\n",
    "    os.makedirs(artist_music_directory, exist_ok=True)\n",
    "\n",
    "    # Iterate through each WAV file in the artist's directory\n",
    "    for filename in os.listdir(artist_input_directory):\n",
    "        if filename.endswith('.wav'):\n",
    "            input_file = os.path.join(artist_input_directory, filename)\n",
    "\n",
    "            # Use Spleeter to separate vocals and music and save the results to a temporary directory\n",
    "            separator.separate_to_file(input_file, artist_output_directory)\n",
    "\n",
    "            print(f'Separated vocals and music for {artist} from {filename}')\n",
    "            \n",
    "            vocal = artist_output_directory + '/' + filename[:-4] + '/vocals.wav'\n",
    "            music = artist_output_directory + '/' + filename[:-4] + '/accompaniment.wav'\n",
    "            shutil.move(vocal, os.path.join(artist_vocals_directory, filename))\n",
    "            shutil.move(music, os.path.join(artist_music_directory, filename))\n",
    "    \n",
    "            print('File move completed.')\n",
    "\n",
    "\n",
    "print('Separation completed.')"
   ]
  },
  {
   "cell_type": "code",
   "execution_count": null,
   "id": "7f390738",
   "metadata": {},
   "outputs": [],
   "source": []
  }
 ],
 "metadata": {
  "kernelspec": {
   "display_name": "Python 3",
   "language": "python",
   "name": "python3"
  },
  "language_info": {
   "codemirror_mode": {
    "name": "ipython",
    "version": 3
   },
   "file_extension": ".py",
   "mimetype": "text/x-python",
   "name": "python",
   "nbconvert_exporter": "python",
   "pygments_lexer": "ipython3",
   "version": "3.8.3"
  }
 },
 "nbformat": 4,
 "nbformat_minor": 5
}
